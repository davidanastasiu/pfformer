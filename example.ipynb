{
 "cells": [
  {
   "cell_type": "markdown",
   "metadata": {},
   "source": [
    "## <font color=blue >PFformer demo.\n",
    "This notebook demos how to train the PFformer model on the CSV dataset files of ***SFC*** stream sensor. If you want to run it on other sensors, just change the parameter of ***--stream_sensor*** and ***--rain_sensor***.\n",
    "\n",
    "In our dataset, the parameters should be set to:\n",
    "\n",
    "--stream_sensor **Ross_S_fixed**\n",
    "--rain_sensor **Ross_R_fixed** \n",
    "\n",
    "--stream_sensor **Saratoga_S_fixed** \n",
    "--rain_sensor **Saratoga_R_fixed** \n",
    "\n",
    "--stream_sensor **UpperPen_S_fixed** \n",
    "--rain_sensor **UpperPen_R_fixed** \n",
    "\n",
    "--stream_sensor **SFC_S_fixed** \n",
    "--rain_sensor **SFC_R_fixed** \n",
    "\n",
    "With PFformer, you can build **multi-variate** model, which means you have stream sensor data and nearby rain sensor data.\n"
   ]
  },
  {
   "cell_type": "markdown",
   "metadata": {},
   "source": [
    "## <font color=blue >Parameter setting. \n",
    "\n",
    "--**stream_sensor**: stream dataset file name. The file should be csv file.\n",
    "\n",
    "--**rain_sensor**: rain dataset file name. The file should be csv file.\n",
    "\n",
    "--**train_volume**: train set size.\n",
    "\n",
    "--**hidden_dim**: hidden dim of basic layers.\n",
    "\n",
    "--**lstm_dim**: hidden dim of lstm layers.\n",
    "\n",
    "--**layer**: number of layers.\n",
    "    \n",
    "--**os_s**: oversampling steps.\n",
    "\n",
    "--**os_v**: oversampling frequency.\n",
    "    \n",
    "--**lamda**: loss weight.\n",
    "    \n",
    "--**beta**: output weight.\n",
    "\n",
    "--**oversampling**: ratio of training data with extreme points.\n",
    "\n",
    "--**model**: model name, used to generate the pt file and predicted file names.\n",
    "\n",
    "--**mode**: set it to 'train' or 'inference' with an existing pt_file.\n",
    "\n",
    "--**pt_file**: if set, the model will be loaded from this pt file, otherwise check the file according to the assigned parameters.\n",
    "\n",
    "--**save**: if save the predicted file of testset, set to 1, else 0.\n",
    "\n",
    "--**outf**: default value is './output', the model will be saved in the train folder in this directory."
   ]
  },
  {
   "cell_type": "markdown",
   "metadata": {},
   "source": [
    "## <font color=blue >Train a *multi-variate* model with rain data."
   ]
  },
  {
   "cell_type": "code",
   "execution_count": null,
   "metadata": {},
   "outputs": [],
   "source": [
    "!export PYTHONPATH=$(dirname $(pwd)) && \\\n",
    "python -m PFformer.run --arg_file './models/opt_SFC.txt' "
   ]
  },
  {
   "cell_type": "code",
   "execution_count": 3,
   "metadata": {},
   "outputs": [
    {
     "name": "stdout",
     "output_type": "stream",
     "text": [
      "current dir:  /data/hydro/hydro-2/code/PFformer\n",
      "Importing parameters from:  opt.txt ............\n",
      "norm is:  [1.38939955e+00 1.42360186e+00 7.20744940e-04 7.35950598e-03]\n",
      "RMSE:  184.50107663435355\n",
      "MAPE:  0.8308394119574126\n",
      "Figure(1000x600)\n",
      "Figure saved in output.png!\n"
     ]
    }
   ],
   "source": [
    "!export PYTHONPATH=$(dirname $(pwd)) && \\\n",
    "python -m PFformer.test --model_path \"output/SFC400/train/SFC400.zip\" --test_time \"2021-12-16 03:45:00\""
   ]
  },
  {
   "cell_type": "code",
   "execution_count": 4,
   "metadata": {},
   "outputs": [
    {
     "name": "stdout",
     "output_type": "stream",
     "text": [
      "current dir:  /data/hydro/hydro-2/code/PFformer\n",
      "Importing parameters from:  opt.txt ............\n",
      "norm is:  [1.38939955e+00 1.42360186e+00 7.20744940e-04 7.35950598e-03]\n",
      "Results saved to predict.txt!\n"
     ]
    }
   ],
   "source": [
    "!export PYTHONPATH=$(dirname $(pwd)) && \\\n",
    "python -m PFformer.predict --model_path \"output/SFC400/train/SFC400.zip\" --test_time \"2020-01-07 03:45:00\""
   ]
  },
  {
   "cell_type": "code",
   "execution_count": null,
   "metadata": {},
   "outputs": [],
   "source": []
  }
 ],
 "metadata": {
  "kernelspec": {
   "display_name": "Python 3",
   "language": "python",
   "name": "python3"
  },
  "language_info": {
   "codemirror_mode": {
    "name": "ipython",
    "version": 3
   },
   "file_extension": ".py",
   "mimetype": "text/x-python",
   "name": "python",
   "nbconvert_exporter": "python",
   "pygments_lexer": "ipython3",
   "version": "3.8.3"
  }
 },
 "nbformat": 4,
 "nbformat_minor": 4
}
